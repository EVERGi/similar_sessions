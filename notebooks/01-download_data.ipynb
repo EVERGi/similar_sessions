{
 "cells": [
  {
   "cell_type": "code",
   "execution_count": 2,
   "metadata": {},
   "outputs": [],
   "source": [
    "# change root path one level up\n",
    "import os\n",
    "os.chdir(\"..\")\n"
   ]
  },
  {
   "cell_type": "code",
   "execution_count": 3,
   "metadata": {},
   "outputs": [],
   "source": [
    "import matplotlib.pyplot as plt\n",
    "import numpy as np\n",
    "import pandas as pd\n",
    "import pytz\n",
    "import seaborn as sns\n",
    "import sys\n",
    "\n",
    "# import us holidays\n",
    "from pandas.tseries.holiday import USFederalHolidayCalendar as calendar\n",
    "\n",
    "from acnportal import acnsim\n",
    "from acnportal.acndata import DataClient\n",
    "\n",
    "CAT_COLS = [\n",
    "    \"Hour\",\n",
    "    \"Weekday\",\n",
    "    \"weekday_hour\",\n",
    "    \"Month\",\n",
    "    \"is_holiday\",\n",
    "    \"is_weekend\",\n",
    "]\n"
   ]
  },
  {
   "cell_type": "code",
   "execution_count": null,
   "metadata": {},
   "outputs": [],
   "source": [
    "# print versions of pandas, numpy and python\n",
    "print(\"pandas version: \", pd.__version__)\n",
    "print(\"numpy version: \", np.__version__)\n",
    "print(\"python version: \", sys.version)\n"
   ]
  },
  {
   "cell_type": "code",
   "execution_count": null,
   "metadata": {},
   "outputs": [],
   "source": [
    "# import data used in the paper by Lee et al. (2019)\n",
    "api_token = \"7dtw3CHtDeqjlG4PZ6OIzbtAnsOJRa8jqcdHUupFduM\"\n",
    "TIMEZONE = pytz.timezone(\"America/Los_Angeles\")\n",
    "client = DataClient(api_token)\n",
    "site = \"caltech\"\n",
    "start = datetime(2018, 5, 1, tzinfo=pytz.timezone(\"US/Pacific\"))\n",
    "end = datetime(2019, 1, 1, tzinfo=pytz.timezone(\"US/Pacific\"))\n",
    "docs = client.get_sessions_by_time(site, start, end)\n",
    "# keep only sessions with userID not None\n",
    "docs = [doc for doc in docs if doc[\"userID\"] is not None]\n"
   ]
  },
  {
   "cell_type": "code",
   "execution_count": null,
   "metadata": {},
   "outputs": [],
   "source": [
    "# dictionary out of generator\n",
    "docs = list(docs)\n",
    "# list into dataframe\n",
    "docs_df = pd.DataFrame(docs)\n",
    "docs_df\n"
   ]
  },
  {
   "cell_type": "code",
   "execution_count": null,
   "metadata": {},
   "outputs": [],
   "source": [
    "# keep only users with more than 20 sessions between 11/1/2018 and 1/1/2019\n",
    "user_counts = docs_df[\"userID\"].value_counts()\n",
    "users = user_counts[user_counts > 20].index\n",
    "# remove all zeros to the left from user ids\n",
    "# users = [user.lstrip('0') for user in users]\n",
    "users\n"
   ]
  },
  {
   "cell_type": "code",
   "execution_count": null,
   "metadata": {},
   "outputs": [],
   "source": [
    "# import data\n",
    "api_token = \"7dtw3CHtDeqjlG4PZ6OIzbtAnsOJRa8jqcdHUupFduM\"\n",
    "TIMEZONE = pytz.timezone(\"America/Los_Angeles\")\n",
    "client = DataClient(api_token)\n",
    "site = \"caltech\"\n",
    "end = datetime(2021, 1, 1, tzinfo=pytz.timezone(\"US/Pacific\"))\n",
    "start = end - timedelta(days=750)\n",
    "docs = client.get_sessions_by_time(site, start, end)\n",
    "# keep only sessions with userID not None\n",
    "docs = [doc for doc in docs if doc[\"userID\"] is not None]\n",
    "# dictionary out of generator\n",
    "docs = list(docs)\n",
    "# list into dataframe\n",
    "docs_df = pd.DataFrame(docs)\n",
    "# keep only users with more than 20 sessions between 11/1/2018 and 1/1/2019\n",
    "docs_df = docs_df[docs_df[\"userID\"].isin(users)]\n",
    "docs_df\n"
   ]
  },
  {
   "cell_type": "code",
   "execution_count": null,
   "metadata": {},
   "outputs": [],
   "source": [
    "def process_timestamp(df, time_col=\"timestamp\"):\n",
    "    df[time_col] = pd.to_datetime(df[time_col])\n",
    "    # remove timezone\n",
    "    df[time_col] = df[time_col].dt.tz_localize(None)\n",
    "    df[time_col] = (\n",
    "        df[time_col] - pd.to_datetime(\"2018-01-01\")\n",
    "    ).dt.total_seconds() // 3600\n",
    "\n",
    "\n",
    "def add_features(df, time_col=\"timestamp\"):\n",
    "    df[time_col + \"_Weekday\"] = df[time_col].dt.dayofweek\n",
    "    df[time_col + \"_Hour\"] = df[time_col].dt.hour\n",
    "    df[time_col + \"_Month\"] = df[time_col].dt.month\n",
    "    df[time_col + \"_date\"] = df[time_col].dt.date\n",
    "    # time interactions\n",
    "    df[time_col + \"_weekday_hour\"] = (\n",
    "        df[time_col + \"_Weekday\"].astype(str) + \"-\" + df[time_col + \"_Hour\"].astype(str)\n",
    "    )\n",
    "    process_timestamp(df, time_col)\n",
    "\n",
    "    # apply cyclic encoding of periodic features\n",
    "    df[time_col + \"_hour_x\"] = np.cos(2 * np.pi * df[time_col] / 24)\n",
    "    df[time_col + \"_hour_y\"] = np.sin(2 * np.pi * df[time_col] / 24)\n",
    "\n",
    "    df[time_col + \"_month_x\"] = np.cos(2 * np.pi * df[time_col] / (30.4 * 24))\n",
    "    df[time_col + \"_month_y\"] = np.sin(2 * np.pi * df[time_col] / (30.4 * 24))\n",
    "\n",
    "    df[time_col + \"_weekday_x\"] = np.cos(2 * np.pi * df[time_col] / (7 * 24))\n",
    "    df[time_col + \"_weekday_y\"] = np.sin(2 * np.pi * df[time_col] / (7 * 24))\n",
    "\n",
    "    # get holidays\n",
    "    dates_range = pd.date_range(start=\"2018-10-01\", end=\"2019-01-01\")\n",
    "    us_holidays = calendar().holidays(start=dates_range.min(), end=dates_range.max())\n",
    "    df[time_col + \"_is_holiday\"] = (\n",
    "        df[time_col + \"_date\"].astype(\"datetime64\").isin(us_holidays)\n",
    "    ).astype(np.int8)\n",
    "    # is weekend\n",
    "    df[time_col + \"_is_weekend\"] = (df[time_col + \"_Weekday\"].isin([6, 7])).astype(\n",
    "        np.int8\n",
    "    )\n",
    "\n",
    "    CAT_COLS = [\n",
    "        \"Hour\",\n",
    "        \"Weekday\",\n",
    "        \"weekday_hour\",\n",
    "        \"Month\",\n",
    "        \"is_holiday\",\n",
    "        \"is_weekend\",\n",
    "    ]\n",
    "    # add time_col to categorical columns\n",
    "    CAT_COLS = [time_col + \"_\" + col for col in CAT_COLS]\n",
    "    # transform as categorical\n",
    "    for cols in CAT_COLS:\n",
    "        df[cols] = df[cols].astype(\"category\")\n",
    "    # drop date column\n",
    "    df.drop([time_col + \"_date\"], axis=1, inplace=True)\n"
   ]
  },
  {
   "cell_type": "code",
   "execution_count": null,
   "metadata": {},
   "outputs": [],
   "source": [
    "docs_df[\"connection_time_copy\"] = docs_df[\"connectionTime\"].dt.date\n",
    "docs_df[\"parking_time\"] = docs_df[\"disconnectTime\"] - docs_df[\"connectionTime\"]\n",
    "docs_df[\"idle_time\"] = docs_df[\"doneChargingTime\"] - docs_df[\"connectionTime\"]\n",
    "# turn parking time into minutes\n",
    "docs_df[\"parking_time\"] = docs_df[\"parking_time\"].dt.total_seconds() / 60 / 60\n",
    "docs_df[\"idle_time\"] = docs_df[\"idle_time\"].dt.total_seconds() / 60 / 60\n",
    "# extract kWhRequested from userInputs unless its a string\n",
    "docs_df[\"kWhRequested\"] = docs_df[\"userInputs\"].apply(lambda x: x[0][\"kWhRequested\"])\n",
    "docs_df[\"Requested_parking_time\"] = (\n",
    "    docs_df[\"userInputs\"].apply(lambda x: x[0][\"minutesAvailable\"]) / 60\n",
    ")\n",
    "docs_df[\"paymentRequired\"] = docs_df[\"userInputs\"].apply(\n",
    "    lambda x: x[0][\"paymentRequired\"]\n",
    ")\n",
    "\n",
    "# hour of the day, day of the week, month\n",
    "docs_df[\"hour\"] = docs_df[\"connectionTime\"].dt.hour\n",
    "docs_df[\"weekday\"] = docs_df[\"connectionTime\"].dt.dayofweek\n",
    "docs_df[\"month\"] = docs_df[\"connectionTime\"].dt.month\n",
    "\n",
    "# add calendar features\n",
    "add_features(docs_df, time_col=\"connectionTime\")\n"
   ]
  },
  {
   "cell_type": "code",
   "execution_count": null,
   "metadata": {},
   "outputs": [],
   "source": [
    "# remove columns userInputs, sessionID and timezone\n",
    "docs_df = docs_df.drop(\n",
    "    [\n",
    "        \"userInputs\",\n",
    "        \"sessionID\",\n",
    "        \"timezone\",\n",
    "        \"doneChargingTime\",\n",
    "        \"disconnectTime\",\n",
    "        \"connectionTime\",\n",
    "    ],\n",
    "    axis=1,\n",
    ")\n",
    "\n",
    "# make _id the index\n",
    "docs_df = docs_df.set_index([\"connection_time_copy\", \"_id\"])\n"
   ]
  },
  {
   "cell_type": "code",
   "execution_count": null,
   "metadata": {},
   "outputs": [],
   "source": [
    "docs_df\n"
   ]
  },
  {
   "cell_type": "code",
   "execution_count": null,
   "metadata": {},
   "outputs": [],
   "source": [
    "# save as csv in a parent directory\n",
    "docs_df.to_csv(\"../data/caltech_test_data.csv\")\n"
   ]
  },
  {
   "cell_type": "code",
   "execution_count": null,
   "metadata": {},
   "outputs": [],
   "source": []
  }
 ],
 "metadata": {
  "kernelspec": {
   "display_name": "Python 3.11.0 ('caltech')",
   "language": "python",
   "name": "python3"
  },
  "language_info": {
   "codemirror_mode": {
    "name": "ipython",
    "version": 3
   },
   "file_extension": ".py",
   "mimetype": "text/x-python",
   "name": "python",
   "nbconvert_exporter": "python",
   "pygments_lexer": "ipython3",
   "version": "3.8.13"
  },
  "vscode": {
   "interpreter": {
    "hash": "4ef18365e1abcf474dd9a21c713ded98c7f3947caee12ed5e34dcd2ea792b5e0"
   }
  }
 },
 "nbformat": 4,
 "nbformat_minor": 2
}
